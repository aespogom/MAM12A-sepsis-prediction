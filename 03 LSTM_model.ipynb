{
  "cells": [
    {
      "cell_type": "markdown",
      "metadata": {
        "id": "eeUZkO7xOr_D"
      },
      "source": [
        "<img src=\"https://github.com/AmsterdamUMC/AmsterdamUMCdb/blob/master/img/logo_c4i_square.png?raw=1\" alt=\"Logo C4I\" width=128px/>\n",
        "\n",
        "<img src=\"https://github.com/AmsterdamUMC/AmsterdamUMCdb/blob/master/img/logo_amds.png?raw=1\" alt=\"Logo AMDS\" width=128px/>\n",
        "\n",
        "# AmsterdamUMCdb with Google BigQuery and Colaboratory\n",
        "## AmsterdamUMCdb - Freely Accessible ICU Database\n",
        "## Task 2: DL model for septic patients"
      ]
    },
    {
      "cell_type": "markdown",
      "metadata": {
        "id": "wkXGVM33tJaP"
      },
      "source": [
        "# Libraries"
      ]
    },
    {
      "cell_type": "code",
      "execution_count": 1,
      "metadata": {
        "id": "WVZYCgT5QRAG"
      },
      "outputs": [],
      "source": [
        "!pip install keras --quiet"
      ]
    },
    {
      "cell_type": "code",
      "execution_count": 2,
      "metadata": {
        "colab": {
          "base_uri": "https://localhost:8080/"
        },
        "id": "KasbePRjQJl1",
        "outputId": "8b8e80b6-11aa-4a64-b2ee-845e0f9628fd"
      },
      "outputs": [
        {
          "name": "stdout",
          "output_type": "stream",
          "text": [
            "\u001b[?25l     \u001b[90m━━━━━━━━━━━━━━━━━━━━━━━━━━━━━━━━━━━━━━━━\u001b[0m \u001b[32m0.0/275.7 kB\u001b[0m \u001b[31m?\u001b[0m eta \u001b[36m-:--:--\u001b[0m\r\u001b[2K     \u001b[91m━━━━\u001b[0m\u001b[90m╺\u001b[0m\u001b[90m━━━━━━━━━━━━━━━━━━━━━━━━━━━━━━━━━━━\u001b[0m \u001b[32m30.7/275.7 kB\u001b[0m \u001b[31m793.7 kB/s\u001b[0m eta \u001b[36m0:00:01\u001b[0m\r\u001b[2K     \u001b[91m━━━━━━━━━━━━━━━━━━━━━━━━━\u001b[0m\u001b[90m╺\u001b[0m\u001b[90m━━━━━━━━━━━━━━\u001b[0m \u001b[32m174.1/275.7 kB\u001b[0m \u001b[31m2.3 MB/s\u001b[0m eta \u001b[36m0:00:01\u001b[0m\r\u001b[2K     \u001b[90m━━━━━━━━━━━━━━━━━━━━━━━━━━━━━━━━━━━━━━━━\u001b[0m \u001b[32m275.7/275.7 kB\u001b[0m \u001b[31m2.8 MB/s\u001b[0m eta \u001b[36m0:00:00\u001b[0m\n",
            "\u001b[?25h  Preparing metadata (setup.py) ... \u001b[?25l\u001b[?25hdone\n",
            "  Building wheel for lime (setup.py) ... \u001b[?25l\u001b[?25hdone\n"
          ]
        }
      ],
      "source": [
        "!pip install lime --quiet"
      ]
    },
    {
      "cell_type": "code",
      "execution_count": 3,
      "metadata": {
        "id": "1PTVlPCN9g5N"
      },
      "outputs": [],
      "source": [
        "!pip install tensorflow --quiet"
      ]
    },
    {
      "cell_type": "code",
      "execution_count": 4,
      "metadata": {
        "id": "ZO4fJTLyQVf0"
      },
      "outputs": [],
      "source": [
        "import numpy as np\n",
        "import pandas as pd\n",
        "import random\n",
        "import tensorflow as tf"
      ]
    },
    {
      "cell_type": "markdown",
      "metadata": {
        "id": "Y0vyEJxKGBBL"
      },
      "source": [
        "# Train-test split"
      ]
    },
    {
      "cell_type": "code",
      "execution_count": 7,
      "metadata": {
        "colab": {
          "base_uri": "https://localhost:8080/",
          "height": 384
        },
        "id": "Q3RvlcXiWX7l",
        "outputId": "97d43c93-7794-4daa-aa5f-54e8a7e93706"
      },
      "outputs": [
        {
          "data": {
            "text/html": [
              "\n",
              "  <div id=\"df-b775061c-9dc1-43a3-87bc-064ca48f7313\" class=\"colab-df-container\">\n",
              "    <div>\n",
              "<style scoped>\n",
              "    .dataframe tbody tr th:only-of-type {\n",
              "        vertical-align: middle;\n",
              "    }\n",
              "\n",
              "    .dataframe tbody tr th {\n",
              "        vertical-align: top;\n",
              "    }\n",
              "\n",
              "    .dataframe thead th {\n",
              "        text-align: right;\n",
              "    }\n",
              "</style>\n",
              "<table border=\"1\" class=\"dataframe\">\n",
              "  <thead>\n",
              "    <tr style=\"text-align: right;\">\n",
              "      <th></th>\n",
              "      <th>admissionid</th>\n",
              "      <th>time</th>\n",
              "      <th>steroids</th>\n",
              "      <th>antibiotics</th>\n",
              "      <th>admissioncount</th>\n",
              "      <th>gender</th>\n",
              "      <th>age</th>\n",
              "      <th>weight</th>\n",
              "      <th>sofa_resp</th>\n",
              "      <th>sofa_cns</th>\n",
              "      <th>...</th>\n",
              "      <th>Leucocyten</th>\n",
              "      <th>Thrombocyten</th>\n",
              "      <th>Bilirubine</th>\n",
              "      <th>Kreatinine</th>\n",
              "      <th>Lactaat</th>\n",
              "      <th>Breathing Rate Spontaneous</th>\n",
              "      <th>Sodium</th>\n",
              "      <th>Calcium</th>\n",
              "      <th>HR</th>\n",
              "      <th>Saturation</th>\n",
              "    </tr>\n",
              "  </thead>\n",
              "  <tbody>\n",
              "    <tr>\n",
              "      <th>count</th>\n",
              "      <td>55529.000000</td>\n",
              "      <td>55529.000000</td>\n",
              "      <td>55529.000000</td>\n",
              "      <td>55529.000000</td>\n",
              "      <td>55529.000000</td>\n",
              "      <td>55529.000000</td>\n",
              "      <td>55529.000000</td>\n",
              "      <td>55529.000000</td>\n",
              "      <td>55529.000000</td>\n",
              "      <td>55529.000000</td>\n",
              "      <td>...</td>\n",
              "      <td>5.552900e+04</td>\n",
              "      <td>55529.000000</td>\n",
              "      <td>55529.000000</td>\n",
              "      <td>55529.000000</td>\n",
              "      <td>55529.000000</td>\n",
              "      <td>55529.000000</td>\n",
              "      <td>55529.000000</td>\n",
              "      <td>55529.000000</td>\n",
              "      <td>55529.000000</td>\n",
              "      <td>55529.000000</td>\n",
              "    </tr>\n",
              "    <tr>\n",
              "      <th>mean</th>\n",
              "      <td>12144.419384</td>\n",
              "      <td>164.907130</td>\n",
              "      <td>0.351096</td>\n",
              "      <td>0.872589</td>\n",
              "      <td>1.150768</td>\n",
              "      <td>0.401466</td>\n",
              "      <td>56.416575</td>\n",
              "      <td>71.126258</td>\n",
              "      <td>0.420321</td>\n",
              "      <td>17.960435</td>\n",
              "      <td>...</td>\n",
              "      <td>4.172303e+02</td>\n",
              "      <td>236.206469</td>\n",
              "      <td>22.012570</td>\n",
              "      <td>123.589044</td>\n",
              "      <td>1.914299</td>\n",
              "      <td>15.341875</td>\n",
              "      <td>142.191648</td>\n",
              "      <td>4.157478</td>\n",
              "      <td>89.411803</td>\n",
              "      <td>97.230276</td>\n",
              "    </tr>\n",
              "    <tr>\n",
              "      <th>std</th>\n",
              "      <td>6684.116227</td>\n",
              "      <td>150.765077</td>\n",
              "      <td>0.477317</td>\n",
              "      <td>0.333436</td>\n",
              "      <td>0.467650</td>\n",
              "      <td>0.490199</td>\n",
              "      <td>17.472973</td>\n",
              "      <td>20.440044</td>\n",
              "      <td>0.618877</td>\n",
              "      <td>10.927056</td>\n",
              "      <td>...</td>\n",
              "      <td>5.477353e+04</td>\n",
              "      <td>171.941634</td>\n",
              "      <td>52.363768</td>\n",
              "      <td>99.479112</td>\n",
              "      <td>2.018998</td>\n",
              "      <td>10.274632</td>\n",
              "      <td>6.341496</td>\n",
              "      <td>0.491417</td>\n",
              "      <td>19.424117</td>\n",
              "      <td>3.252930</td>\n",
              "    </tr>\n",
              "    <tr>\n",
              "      <th>min</th>\n",
              "      <td>11.000000</td>\n",
              "      <td>0.000000</td>\n",
              "      <td>0.000000</td>\n",
              "      <td>0.000000</td>\n",
              "      <td>1.000000</td>\n",
              "      <td>0.000000</td>\n",
              "      <td>18.000000</td>\n",
              "      <td>0.000000</td>\n",
              "      <td>0.000000</td>\n",
              "      <td>0.000000</td>\n",
              "      <td>...</td>\n",
              "      <td>0.000000e+00</td>\n",
              "      <td>0.000000</td>\n",
              "      <td>0.000000</td>\n",
              "      <td>0.000000</td>\n",
              "      <td>-0.800000</td>\n",
              "      <td>0.000000</td>\n",
              "      <td>0.000000</td>\n",
              "      <td>1.700000</td>\n",
              "      <td>0.000000</td>\n",
              "      <td>1.000000</td>\n",
              "    </tr>\n",
              "    <tr>\n",
              "      <th>25%</th>\n",
              "      <td>6409.000000</td>\n",
              "      <td>40.000000</td>\n",
              "      <td>0.000000</td>\n",
              "      <td>1.000000</td>\n",
              "      <td>1.000000</td>\n",
              "      <td>0.000000</td>\n",
              "      <td>50.000000</td>\n",
              "      <td>60.000000</td>\n",
              "      <td>0.000000</td>\n",
              "      <td>18.000000</td>\n",
              "      <td>...</td>\n",
              "      <td>8.800000e+00</td>\n",
              "      <td>113.000000</td>\n",
              "      <td>5.000000</td>\n",
              "      <td>64.000000</td>\n",
              "      <td>1.000000</td>\n",
              "      <td>11.000000</td>\n",
              "      <td>138.000000</td>\n",
              "      <td>3.800000</td>\n",
              "      <td>76.000000</td>\n",
              "      <td>96.000000</td>\n",
              "    </tr>\n",
              "    <tr>\n",
              "      <th>50%</th>\n",
              "      <td>12645.000000</td>\n",
              "      <td>120.000000</td>\n",
              "      <td>0.000000</td>\n",
              "      <td>1.000000</td>\n",
              "      <td>1.000000</td>\n",
              "      <td>0.000000</td>\n",
              "      <td>60.000000</td>\n",
              "      <td>70.000000</td>\n",
              "      <td>0.000000</td>\n",
              "      <td>18.000000</td>\n",
              "      <td>...</td>\n",
              "      <td>1.250000e+01</td>\n",
              "      <td>201.000000</td>\n",
              "      <td>9.000000</td>\n",
              "      <td>91.000000</td>\n",
              "      <td>1.400000</td>\n",
              "      <td>16.000000</td>\n",
              "      <td>142.000000</td>\n",
              "      <td>4.100000</td>\n",
              "      <td>88.000000</td>\n",
              "      <td>98.000000</td>\n",
              "    </tr>\n",
              "    <tr>\n",
              "      <th>75%</th>\n",
              "      <td>17853.000000</td>\n",
              "      <td>248.000000</td>\n",
              "      <td>1.000000</td>\n",
              "      <td>1.000000</td>\n",
              "      <td>1.000000</td>\n",
              "      <td>1.000000</td>\n",
              "      <td>70.000000</td>\n",
              "      <td>80.000000</td>\n",
              "      <td>1.000000</td>\n",
              "      <td>18.000000</td>\n",
              "      <td>...</td>\n",
              "      <td>1.780000e+01</td>\n",
              "      <td>315.000000</td>\n",
              "      <td>17.000000</td>\n",
              "      <td>147.000000</td>\n",
              "      <td>2.100000</td>\n",
              "      <td>24.000000</td>\n",
              "      <td>146.000000</td>\n",
              "      <td>4.400000</td>\n",
              "      <td>102.000000</td>\n",
              "      <td>99.000000</td>\n",
              "    </tr>\n",
              "    <tr>\n",
              "      <th>max</th>\n",
              "      <td>23535.000000</td>\n",
              "      <td>712.000000</td>\n",
              "      <td>1.000000</td>\n",
              "      <td>1.000000</td>\n",
              "      <td>5.000000</td>\n",
              "      <td>1.000000</td>\n",
              "      <td>80.000000</td>\n",
              "      <td>110.000000</td>\n",
              "      <td>2.000000</td>\n",
              "      <td>72.000000</td>\n",
              "      <td>...</td>\n",
              "      <td>7.452101e+06</td>\n",
              "      <td>1351.000000</td>\n",
              "      <td>926.000000</td>\n",
              "      <td>1724.000000</td>\n",
              "      <td>38.099998</td>\n",
              "      <td>44.000000</td>\n",
              "      <td>177.000000</td>\n",
              "      <td>7.500000</td>\n",
              "      <td>206.000000</td>\n",
              "      <td>398.000000</td>\n",
              "    </tr>\n",
              "  </tbody>\n",
              "</table>\n",
              "<p>8 rows × 26 columns</p>\n",
              "</div>\n",
              "    <div class=\"colab-df-buttons\">\n",
              "\n",
              "  <div class=\"colab-df-container\">\n",
              "    <button class=\"colab-df-convert\" onclick=\"convertToInteractive('df-b775061c-9dc1-43a3-87bc-064ca48f7313')\"\n",
              "            title=\"Convert this dataframe to an interactive table.\"\n",
              "            style=\"display:none;\">\n",
              "\n",
              "  <svg xmlns=\"http://www.w3.org/2000/svg\" height=\"24px\" viewBox=\"0 -960 960 960\">\n",
              "    <path d=\"M120-120v-720h720v720H120Zm60-500h600v-160H180v160Zm220 220h160v-160H400v160Zm0 220h160v-160H400v160ZM180-400h160v-160H180v160Zm440 0h160v-160H620v160ZM180-180h160v-160H180v160Zm440 0h160v-160H620v160Z\"/>\n",
              "  </svg>\n",
              "    </button>\n",
              "\n",
              "  <style>\n",
              "    .colab-df-container {\n",
              "      display:flex;\n",
              "      gap: 12px;\n",
              "    }\n",
              "\n",
              "    .colab-df-convert {\n",
              "      background-color: #E8F0FE;\n",
              "      border: none;\n",
              "      border-radius: 50%;\n",
              "      cursor: pointer;\n",
              "      display: none;\n",
              "      fill: #1967D2;\n",
              "      height: 32px;\n",
              "      padding: 0 0 0 0;\n",
              "      width: 32px;\n",
              "    }\n",
              "\n",
              "    .colab-df-convert:hover {\n",
              "      background-color: #E2EBFA;\n",
              "      box-shadow: 0px 1px 2px rgba(60, 64, 67, 0.3), 0px 1px 3px 1px rgba(60, 64, 67, 0.15);\n",
              "      fill: #174EA6;\n",
              "    }\n",
              "\n",
              "    .colab-df-buttons div {\n",
              "      margin-bottom: 4px;\n",
              "    }\n",
              "\n",
              "    [theme=dark] .colab-df-convert {\n",
              "      background-color: #3B4455;\n",
              "      fill: #D2E3FC;\n",
              "    }\n",
              "\n",
              "    [theme=dark] .colab-df-convert:hover {\n",
              "      background-color: #434B5C;\n",
              "      box-shadow: 0px 1px 3px 1px rgba(0, 0, 0, 0.15);\n",
              "      filter: drop-shadow(0px 1px 2px rgba(0, 0, 0, 0.3));\n",
              "      fill: #FFFFFF;\n",
              "    }\n",
              "  </style>\n",
              "\n",
              "    <script>\n",
              "      const buttonEl =\n",
              "        document.querySelector('#df-b775061c-9dc1-43a3-87bc-064ca48f7313 button.colab-df-convert');\n",
              "      buttonEl.style.display =\n",
              "        google.colab.kernel.accessAllowed ? 'block' : 'none';\n",
              "\n",
              "      async function convertToInteractive(key) {\n",
              "        const element = document.querySelector('#df-b775061c-9dc1-43a3-87bc-064ca48f7313');\n",
              "        const dataTable =\n",
              "          await google.colab.kernel.invokeFunction('convertToInteractive',\n",
              "                                                    [key], {});\n",
              "        if (!dataTable) return;\n",
              "\n",
              "        const docLinkHtml = 'Like what you see? Visit the ' +\n",
              "          '<a target=\"_blank\" href=https://colab.research.google.com/notebooks/data_table.ipynb>data table notebook</a>'\n",
              "          + ' to learn more about interactive tables.';\n",
              "        element.innerHTML = '';\n",
              "        dataTable['output_type'] = 'display_data';\n",
              "        await google.colab.output.renderOutput(dataTable, element);\n",
              "        const docLink = document.createElement('div');\n",
              "        docLink.innerHTML = docLinkHtml;\n",
              "        element.appendChild(docLink);\n",
              "      }\n",
              "    </script>\n",
              "  </div>\n",
              "\n",
              "\n",
              "<div id=\"df-2a3683df-4edf-4ff1-8020-262d2f2d31f4\">\n",
              "  <button class=\"colab-df-quickchart\" onclick=\"quickchart('df-2a3683df-4edf-4ff1-8020-262d2f2d31f4')\"\n",
              "            title=\"Suggest charts\"\n",
              "            style=\"display:none;\">\n",
              "\n",
              "<svg xmlns=\"http://www.w3.org/2000/svg\" height=\"24px\"viewBox=\"0 0 24 24\"\n",
              "     width=\"24px\">\n",
              "    <g>\n",
              "        <path d=\"M19 3H5c-1.1 0-2 .9-2 2v14c0 1.1.9 2 2 2h14c1.1 0 2-.9 2-2V5c0-1.1-.9-2-2-2zM9 17H7v-7h2v7zm4 0h-2V7h2v10zm4 0h-2v-4h2v4z\"/>\n",
              "    </g>\n",
              "</svg>\n",
              "  </button>\n",
              "\n",
              "<style>\n",
              "  .colab-df-quickchart {\n",
              "      --bg-color: #E8F0FE;\n",
              "      --fill-color: #1967D2;\n",
              "      --hover-bg-color: #E2EBFA;\n",
              "      --hover-fill-color: #174EA6;\n",
              "      --disabled-fill-color: #AAA;\n",
              "      --disabled-bg-color: #DDD;\n",
              "  }\n",
              "\n",
              "  [theme=dark] .colab-df-quickchart {\n",
              "      --bg-color: #3B4455;\n",
              "      --fill-color: #D2E3FC;\n",
              "      --hover-bg-color: #434B5C;\n",
              "      --hover-fill-color: #FFFFFF;\n",
              "      --disabled-bg-color: #3B4455;\n",
              "      --disabled-fill-color: #666;\n",
              "  }\n",
              "\n",
              "  .colab-df-quickchart {\n",
              "    background-color: var(--bg-color);\n",
              "    border: none;\n",
              "    border-radius: 50%;\n",
              "    cursor: pointer;\n",
              "    display: none;\n",
              "    fill: var(--fill-color);\n",
              "    height: 32px;\n",
              "    padding: 0;\n",
              "    width: 32px;\n",
              "  }\n",
              "\n",
              "  .colab-df-quickchart:hover {\n",
              "    background-color: var(--hover-bg-color);\n",
              "    box-shadow: 0 1px 2px rgba(60, 64, 67, 0.3), 0 1px 3px 1px rgba(60, 64, 67, 0.15);\n",
              "    fill: var(--button-hover-fill-color);\n",
              "  }\n",
              "\n",
              "  .colab-df-quickchart-complete:disabled,\n",
              "  .colab-df-quickchart-complete:disabled:hover {\n",
              "    background-color: var(--disabled-bg-color);\n",
              "    fill: var(--disabled-fill-color);\n",
              "    box-shadow: none;\n",
              "  }\n",
              "\n",
              "  .colab-df-spinner {\n",
              "    border: 2px solid var(--fill-color);\n",
              "    border-color: transparent;\n",
              "    border-bottom-color: var(--fill-color);\n",
              "    animation:\n",
              "      spin 1s steps(1) infinite;\n",
              "  }\n",
              "\n",
              "  @keyframes spin {\n",
              "    0% {\n",
              "      border-color: transparent;\n",
              "      border-bottom-color: var(--fill-color);\n",
              "      border-left-color: var(--fill-color);\n",
              "    }\n",
              "    20% {\n",
              "      border-color: transparent;\n",
              "      border-left-color: var(--fill-color);\n",
              "      border-top-color: var(--fill-color);\n",
              "    }\n",
              "    30% {\n",
              "      border-color: transparent;\n",
              "      border-left-color: var(--fill-color);\n",
              "      border-top-color: var(--fill-color);\n",
              "      border-right-color: var(--fill-color);\n",
              "    }\n",
              "    40% {\n",
              "      border-color: transparent;\n",
              "      border-right-color: var(--fill-color);\n",
              "      border-top-color: var(--fill-color);\n",
              "    }\n",
              "    60% {\n",
              "      border-color: transparent;\n",
              "      border-right-color: var(--fill-color);\n",
              "    }\n",
              "    80% {\n",
              "      border-color: transparent;\n",
              "      border-right-color: var(--fill-color);\n",
              "      border-bottom-color: var(--fill-color);\n",
              "    }\n",
              "    90% {\n",
              "      border-color: transparent;\n",
              "      border-bottom-color: var(--fill-color);\n",
              "    }\n",
              "  }\n",
              "</style>\n",
              "\n",
              "  <script>\n",
              "    async function quickchart(key) {\n",
              "      const quickchartButtonEl =\n",
              "        document.querySelector('#' + key + ' button');\n",
              "      quickchartButtonEl.disabled = true;  // To prevent multiple clicks.\n",
              "      quickchartButtonEl.classList.add('colab-df-spinner');\n",
              "      try {\n",
              "        const charts = await google.colab.kernel.invokeFunction(\n",
              "            'suggestCharts', [key], {});\n",
              "      } catch (error) {\n",
              "        console.error('Error during call to suggestCharts:', error);\n",
              "      }\n",
              "      quickchartButtonEl.classList.remove('colab-df-spinner');\n",
              "      quickchartButtonEl.classList.add('colab-df-quickchart-complete');\n",
              "    }\n",
              "    (() => {\n",
              "      let quickchartButtonEl =\n",
              "        document.querySelector('#df-2a3683df-4edf-4ff1-8020-262d2f2d31f4 button');\n",
              "      quickchartButtonEl.style.display =\n",
              "        google.colab.kernel.accessAllowed ? 'block' : 'none';\n",
              "    })();\n",
              "  </script>\n",
              "</div>\n",
              "    </div>\n",
              "  </div>\n"
            ],
            "text/plain": [
              "        admissionid          time      steroids   antibiotics  admissioncount  \\\n",
              "count  55529.000000  55529.000000  55529.000000  55529.000000    55529.000000   \n",
              "mean   12144.419384    164.907130      0.351096      0.872589        1.150768   \n",
              "std     6684.116227    150.765077      0.477317      0.333436        0.467650   \n",
              "min       11.000000      0.000000      0.000000      0.000000        1.000000   \n",
              "25%     6409.000000     40.000000      0.000000      1.000000        1.000000   \n",
              "50%    12645.000000    120.000000      0.000000      1.000000        1.000000   \n",
              "75%    17853.000000    248.000000      1.000000      1.000000        1.000000   \n",
              "max    23535.000000    712.000000      1.000000      1.000000        5.000000   \n",
              "\n",
              "             gender           age        weight     sofa_resp      sofa_cns  \\\n",
              "count  55529.000000  55529.000000  55529.000000  55529.000000  55529.000000   \n",
              "mean       0.401466     56.416575     71.126258      0.420321     17.960435   \n",
              "std        0.490199     17.472973     20.440044      0.618877     10.927056   \n",
              "min        0.000000     18.000000      0.000000      0.000000      0.000000   \n",
              "25%        0.000000     50.000000     60.000000      0.000000     18.000000   \n",
              "50%        0.000000     60.000000     70.000000      0.000000     18.000000   \n",
              "75%        1.000000     70.000000     80.000000      1.000000     18.000000   \n",
              "max        1.000000     80.000000    110.000000      2.000000     72.000000   \n",
              "\n",
              "       ...    Leucocyten  Thrombocyten    Bilirubine    Kreatinine  \\\n",
              "count  ...  5.552900e+04  55529.000000  55529.000000  55529.000000   \n",
              "mean   ...  4.172303e+02    236.206469     22.012570    123.589044   \n",
              "std    ...  5.477353e+04    171.941634     52.363768     99.479112   \n",
              "min    ...  0.000000e+00      0.000000      0.000000      0.000000   \n",
              "25%    ...  8.800000e+00    113.000000      5.000000     64.000000   \n",
              "50%    ...  1.250000e+01    201.000000      9.000000     91.000000   \n",
              "75%    ...  1.780000e+01    315.000000     17.000000    147.000000   \n",
              "max    ...  7.452101e+06   1351.000000    926.000000   1724.000000   \n",
              "\n",
              "            Lactaat  Breathing Rate Spontaneous        Sodium       Calcium  \\\n",
              "count  55529.000000                55529.000000  55529.000000  55529.000000   \n",
              "mean       1.914299                   15.341875    142.191648      4.157478   \n",
              "std        2.018998                   10.274632      6.341496      0.491417   \n",
              "min       -0.800000                    0.000000      0.000000      1.700000   \n",
              "25%        1.000000                   11.000000    138.000000      3.800000   \n",
              "50%        1.400000                   16.000000    142.000000      4.100000   \n",
              "75%        2.100000                   24.000000    146.000000      4.400000   \n",
              "max       38.099998                   44.000000    177.000000      7.500000   \n",
              "\n",
              "                 HR    Saturation  \n",
              "count  55529.000000  55529.000000  \n",
              "mean      89.411803     97.230276  \n",
              "std       19.424117      3.252930  \n",
              "min        0.000000      1.000000  \n",
              "25%       76.000000     96.000000  \n",
              "50%       88.000000     98.000000  \n",
              "75%      102.000000     99.000000  \n",
              "max      206.000000    398.000000  \n",
              "\n",
              "[8 rows x 26 columns]"
            ]
          },
          "execution_count": 7,
          "metadata": {},
          "output_type": "execute_result"
        }
      ],
      "source": [
        "df.describe()"
      ]
    },
    {
      "cell_type": "code",
      "execution_count": 8,
      "metadata": {
        "colab": {
          "base_uri": "https://localhost:8080/"
        },
        "id": "wqw87Hm7GdGY",
        "outputId": "c1c7abc5-2e21-47ff-c074-b7b10da1c61d"
      },
      "outputs": [
        {
          "data": {
            "text/plain": [
              "2809"
            ]
          },
          "execution_count": 8,
          "metadata": {},
          "output_type": "execute_result"
        }
      ],
      "source": [
        "from sklearn.model_selection import train_test_split\n",
        "\n",
        "id_list = list(df['admissionid'].unique())\n",
        "SPLIT_SIZE = 0.2\n",
        "len(id_list)"
      ]
    },
    {
      "cell_type": "code",
      "execution_count": 9,
      "metadata": {
        "colab": {
          "base_uri": "https://localhost:8080/"
        },
        "id": "gj5TDS0kGAa0",
        "outputId": "fec01f08-725b-47b5-824d-d3f06f948451"
      },
      "outputs": [
        {
          "name": "stdout",
          "output_type": "stream",
          "text": [
            "train is 2247\n",
            "val and test are 281\n"
          ]
        }
      ],
      "source": [
        "id_train, id_test_val = train_test_split(id_list, test_size = SPLIT_SIZE, random_state = 42) # train set is 80%)\n",
        "print(\"train is %d\" % len(id_train))\n",
        "# remaining 20% split in halves as test and validation 10% and 10%\n",
        "id_valid, id_test = train_test_split(id_test_val, test_size = 0.5, random_state = 42) # test 10% valid 10%\n",
        "print(\"val and test are %d\" %len(id_test))"
      ]
    },
    {
      "cell_type": "code",
      "execution_count": 10,
      "metadata": {
        "id": "CRlG4sNfNBHR"
      },
      "outputs": [],
      "source": [
        "train = df[df.admissionid.isin(id_train)].sort_values(by=['admissionid'])\n",
        "test = df[df.admissionid.isin(id_test)].sort_values(by=['admissionid'])\n",
        "validation = df[df.admissionid.isin(id_valid)].sort_values(by=['admissionid'])\n",
        "\n",
        "test = test.sort_values(by=['admissionid', 'time'], ignore_index = True)\n",
        "train = train.sort_values(by=['admissionid', 'time'], ignore_index = True)\n",
        "validation = validation.sort_values(by=['admissionid', 'time'], ignore_index = True)"
      ]
    },
    {
      "cell_type": "code",
      "execution_count": 11,
      "metadata": {
        "colab": {
          "base_uri": "https://localhost:8080/"
        },
        "id": "b9NAgX-G56eZ",
        "outputId": "dcd306a5-3aa4-4a84-b2d0-a93b699089d2"
      },
      "outputs": [
        {
          "data": {
            "text/plain": [
              "Index(['admissionid', 'time', 'steroids', 'antibiotics', 'admissioncount',\n",
              "       'gender', 'age', 'weight', 'sofa_resp', 'sofa_cns', 'sofa_cardio',\n",
              "       'deceased', 'LOS', 'dose_drug', 'Hematocrit', 'Hemoglobine',\n",
              "       'Leucocyten', 'Thrombocyten', 'Bilirubine', 'Kreatinine', 'Lactaat',\n",
              "       'Breathing Rate Spontaneous', 'Sodium', 'Calcium', 'HR', 'Saturation'],\n",
              "      dtype='object')"
            ]
          },
          "execution_count": 11,
          "metadata": {},
          "output_type": "execute_result"
        }
      ],
      "source": [
        "train.columns"
      ]
    },
    {
      "cell_type": "markdown",
      "metadata": {
        "id": "pnUPhbWc2rKq"
      },
      "source": [
        "# LSTM\n",
        "\n",
        "https://www.kaggle.com/code/prashant111/explain-your-model-predictions-with-lime\n",
        "\n",
        "https://github.com/Amario1306619051/Patient-Mortality-Prediction-Using-LSTM?tab=readme-ov-file"
      ]
    },
    {
      "cell_type": "markdown",
      "metadata": {
        "id": "qyaSqLcHDsnA"
      },
      "source": [
        "## Pad variable length sequences"
      ]
    },
    {
      "cell_type": "code",
      "execution_count": 12,
      "metadata": {
        "id": "VQvFGyl7Euut"
      },
      "outputs": [],
      "source": [
        "col_x = ['admissionid', 'time','steroids', 'antibiotics', 'admissioncount',\n",
        "       'gender', 'age', 'weight', 'sofa_resp', 'sofa_cns', 'sofa_cardio',\n",
        "       'dose_drug', 'Hematocrit', 'Hemoglobine',\n",
        "       'Leucocyten', 'Thrombocyten', 'Bilirubine', 'Kreatinine', 'Lactaat',\n",
        "       'Breathing Rate Spontaneous', 'Sodium', 'Calcium', 'HR', 'Saturation']\n",
        "col_y = ['admissionid', 'time', \"deceased\"]\n",
        "\n",
        "x_train = train[col_x]\n",
        "y_train = train[col_y]\n",
        "x_validation = validation[col_x]\n",
        "y_validation = validation[col_y]\n",
        "x_test = test[col_x]\n",
        "y_test = test[col_y]\n",
        "\n",
        "x_train.set_index(['admissionid','time'], append=True, inplace=True)\n",
        "y_train.set_index(['admissionid','time'], append=True, inplace=True)\n",
        "x_validation.set_index(['admissionid','time'], append=True, inplace=True)\n",
        "y_validation.set_index(['admissionid','time'], append=True, inplace=True)\n",
        "x_test.set_index(['admissionid','time'], append=True, inplace=True)\n",
        "y_test.set_index(['admissionid','time'], append=True, inplace=True)"
      ]
    },
    {
      "cell_type": "code",
      "execution_count": 13,
      "metadata": {
        "id": "SdxAA9OZI1Lc"
      },
      "outputs": [],
      "source": [
        "from tensorflow.keras.preprocessing import sequence\n",
        "\n",
        "# max number of sequence length\n",
        "maxlen = 90 # 720 hours max LOS divided by 8 hours timestep\n",
        "\n",
        "# get a list of unique patient encounter IDs\n",
        "teId = x_train.index.levels[1]\n",
        "veId = x_validation.index.levels[1]\n",
        "teeId = x_test.index.levels[1]\n",
        "\n",
        "# pad every patient sequence with 0s to be the same length,\n",
        "# then transforms the list of sequences to one numpy array\n",
        "# this is for efficient minibatching and GPU computations\n",
        "X_train = [x_train.loc[(slice(None), patient), :].values for patient in teId]\n",
        "y_train = [y_train.loc[(slice(None), patient), :].values for patient in teId]\n",
        "\n",
        "X_train = sequence.pad_sequences(X_train, dtype='float32', maxlen=maxlen, padding='post', truncating='post')\n",
        "y_train = sequence.pad_sequences(y_train, dtype='float32', maxlen=maxlen, padding='post', truncating='post')\n",
        "\n",
        "# repeat for the validation data\n",
        "\n",
        "X_valid = [x_validation.loc[(slice(None), patient), :].values for patient in veId]\n",
        "y_valid = [y_validation.loc[(slice(None), patient), :].values for patient in veId]\n",
        "\n",
        "X_valid = sequence.pad_sequences(X_valid, dtype='float32', maxlen=maxlen, padding='post', truncating='post')\n",
        "y_valid = sequence.pad_sequences(y_valid, dtype='float32', maxlen=maxlen, padding='post', truncating='post')\n",
        "\n",
        "X_test = [x_test.loc[(slice(None), patient), :].values for patient in teeId]\n",
        "y_test = [y_test.loc[(slice(None), patient), :].values for patient in teeId]\n",
        "\n",
        "X_test = sequence.pad_sequences(X_test, dtype='float32', maxlen=maxlen, padding='post', truncating='post')\n",
        "y_test = sequence.pad_sequences(y_test, dtype='float32', maxlen=maxlen, padding='post', truncating='post')\n"
      ]
    },
    {
      "cell_type": "code",
      "execution_count": 14,
      "metadata": {
        "colab": {
          "base_uri": "https://localhost:8080/"
        },
        "id": "D9UxVKjnGOrS",
        "outputId": "a3ae48ef-61e1-4d32-edb2-ed1e334b79dd"
      },
      "outputs": [
        {
          "name": "stdout",
          "output_type": "stream",
          "text": [
            "X_train shape: (2247, 90, 22) | y_train shape: (2247, 90, 1)\n",
            "X_valid shape: (281, 90, 22) | y_valid shape: (281, 90, 1)\n",
            "X_test shape: (281, 90, 22) | y_test shape: (281, 90, 1)\n"
          ]
        }
      ],
      "source": [
        "# print the shape of the array which will be used by the network\n",
        "# the shape is of the form (# of encounters, length of sequence, # of features)\n",
        "print(\"X_train shape: %s | y_train shape: %s\" % (str(X_train.shape), str(y_train.shape)))\n",
        "print(\"X_valid shape: %s | y_valid shape: %s\" % (str(X_valid.shape), str(y_valid.shape)))\n",
        "print(\"X_test shape: %s | y_test shape: %s\" % (str(X_test.shape), str(y_test.shape)))"
      ]
    },
    {
      "cell_type": "code",
      "execution_count": 15,
      "metadata": {
        "colab": {
          "base_uri": "https://localhost:8080/",
          "height": 0
        },
        "id": "XYWn6qbYLKHg",
        "outputId": "813d2ead-25b1-4e3c-c456-cfdebd767609"
      },
      "outputs": [
        {
          "name": "stdout",
          "output_type": "stream",
          "text": [
            "ix = 1027\n"
          ]
        },
        {
          "data": {
            "image/png": "[encoded data removed]",
            "text/plain": [
              "<Figure size 640x480 with 2 Axes>"
            ]
          },
          "metadata": {},
          "output_type": "display_data"
        }
      ],
      "source": [
        "import matplotlib.pyplot as plt\n",
        "# figure out how many encounters we have\n",
        "numencnt = X_train.shape[0]\n",
        "\n",
        "# choose a random patient encounter to plot\n",
        "ix = random.randint(0,numencnt) #Try a few different index values between 0 and 4999\n",
        "print('ix = {}'.format(ix))\n",
        "\n",
        "# plot a matrix of observation values\n",
        "plt.title(\"Patient Encounter Matrix\")\n",
        "plt.pcolor(np.transpose(X_train[ix,:,:]))\n",
        "plt.ylabel(\"variable\")\n",
        "plt.xlabel(\"time/observation\")\n",
        "plt.ylim(0,22)\n",
        "plt.colorbar()\n",
        "plt.show()"
      ]
    },
    {
      "cell_type": "markdown",
      "metadata": {
        "id": "s815NaaFJKIB"
      },
      "source": [
        "## LSTM"
      ]
    },
    {
      "cell_type": "code",
      "execution_count": null,
      "metadata": {
        "colab": {
          "base_uri": "https://localhost:8080/"
        },
        "id": "9duNmOx7I4Nx",
        "outputId": "ce72e2b6-7292-46d6-fcb8-987103f3f7cb"
      },
      "outputs": [
        {
          "name": "stdout",
          "output_type": "stream",
          "text": [
            "Model: \"model_6\"\n",
            "_________________________________________________________________\n",
            " Layer (type)                Output Shape              Param #   \n",
            "=================================================================\n",
            " input (InputLayer)          [(None, 90, 22)]          0         \n",
            "                                                                 \n",
            " input_masked (Masking)      (None, 90, 22)            0         \n",
            "                                                                 \n",
            " lstm1 (LSTM)                (None, 90, 90)            40680     \n",
            "                                                                 \n",
            " output (TimeDistributed)    (None, 90, 1)             91        \n",
            "                                                                 \n",
            "=================================================================\n",
            "Total params: 40771 (159.26 KB)\n",
            "Trainable params: 40771 (159.26 KB)\n",
            "Non-trainable params: 0 (0.00 Byte)\n",
            "_________________________________________________________________\n"
          ]
        }
      ],
      "source": [
        "from tensorflow.keras import Input, Model\n",
        "from tensorflow.keras.layers import LSTM, Dense, TimeDistributed, Masking\n",
        "from tensorflow.keras.optimizers import RMSprop\n",
        "\n",
        "# construct inputs\n",
        "x = Input((90, X_train.shape[-1]) , name='input')\n",
        "mask = Masking(0, name='input_masked')(x)\n",
        "\n",
        "# stack LSTMs\n",
        "lstm_kwargs = {'dropout': 0.25, 'recurrent_dropout': 0.3, 'return_sequences': True}\n",
        "lstm1 = LSTM(90, name='lstm1', **lstm_kwargs)(mask)\n",
        "\n",
        "# output: sigmoid layer\n",
        "output = TimeDistributed(Dense(1, activation='sigmoid'), name='output')(lstm1)\n",
        "model = Model(inputs=x, outputs=output)\n",
        "\n",
        "# compile model\n",
        "optimizer = RMSprop(learning_rate=0.005)\n",
        "model.compile(optimizer=optimizer, loss='binary_crossentropy')\n",
        "\n",
        "# print layer shapes and model parameters\n",
        "model.summary()"
      ]
    },
    {
      "cell_type": "code",
      "execution_count": null,
      "metadata": {
        "colab": {
          "base_uri": "https://localhost:8080/"
        },
        "id": "DMlUch0OG86v",
        "outputId": "a9a6999a-7aa4-47e4-e57e-d864e630892b"
      },
      "outputs": [
        {
          "name": "stdout",
          "output_type": "stream",
          "text": [
            "Epoch 1/50\n",
            "18/18 [==============================] - 16s 563ms/step - loss: 0.5111 - val_loss: 0.5758\n",
            "Epoch 2/50\n",
            "18/18 [==============================] - 9s 480ms/step - loss: 0.5120 - val_loss: 0.5422\n",
            "Epoch 3/50\n",
            "18/18 [==============================] - 11s 628ms/step - loss: 0.5040 - val_loss: 0.5507\n",
            "Epoch 4/50\n",
            "18/18 [==============================] - 8s 426ms/step - loss: 0.5066 - val_loss: 0.5563\n",
            "Epoch 5/50\n",
            "18/18 [==============================] - 11s 626ms/step - loss: 0.5114 - val_loss: 0.5921\n",
            "Epoch 6/50\n",
            "18/18 [==============================] - 9s 495ms/step - loss: 0.5056 - val_loss: 0.5580\n",
            "Epoch 7/50\n",
            "18/18 [==============================] - 10s 533ms/step - loss: 0.5061 - val_loss: 0.5713\n"
          ]
        }
      ],
      "source": [
        "callback = tf.keras.callbacks.EarlyStopping(monitor='val_loss', patience=5)\n",
        "history = model.fit(X_train, y_train, batch_size=128, validation_data=(X_valid, y_valid), epochs=50, verbose=1, callbacks=[callback])"
      ]
    },
    {
      "cell_type": "code",
      "execution_count": null,
      "metadata": {
        "id": "VSy6n5wdd3EM"
      },
      "outputs": [],
      "source": [
        "from datetime import datetime\n",
        "today_date = datetime.now().strftime('%d-%m-%Y')\n",
        "# Save the model\n",
        "model.save(f'/drive/My Drive/MASTER/SEGUNDO/MAM12A ML AND REASONING FOR HEALTH/MAM12A project/models_LSTM_ana/LSTM_checkpoint_{today_date}')"
      ]
    },
    {
      "cell_type": "markdown",
      "metadata": {
        "id": "DHLmeU0SJNFE"
      },
      "source": [
        "## Test + ROC"
      ]
    },
    {
      "cell_type": "code",
      "execution_count": 16,
      "metadata": {
        "id": "y4fOALXpPjDG"
      },
      "outputs": [],
      "source": [
        "model = tf.keras.models.load_model('/drive/My Drive/MASTER/SEGUNDO/MAM12A ML AND REASONING FOR HEALTH/MAM12A project/models_LSTM_ana/LSTM_checkpoint_12-12-2023')"
      ]
    },
    {
      "cell_type": "code",
      "execution_count": 17,
      "metadata": {
        "colab": {
          "base_uri": "https://localhost:8080/"
        },
        "id": "NxOVyeU85gH4",
        "outputId": "6cc2d112-d33d-4a76-d008-236b4a889cd5"
      },
      "outputs": [
        {
          "name": "stdout",
          "output_type": "stream",
          "text": [
            "9/9 [==============================] - 1s 32ms/step\n"
          ]
        }
      ],
      "source": [
        "# Generate model results on the holdout validation set\n",
        "preds = model.predict(X_test)"
      ]
    },
    {
      "cell_type": "code",
      "execution_count": 18,
      "metadata": {
        "colab": {
          "base_uri": "https://localhost:8080/"
        },
        "id": "f_9F4NtjDRZ_",
        "outputId": "e0b7bfc2-74d4-415a-cb6d-2608f4fd42fb"
      },
      "outputs": [
        {
          "data": {
            "text/plain": [
              "281"
            ]
          },
          "execution_count": 18,
          "metadata": {},
          "output_type": "execute_result"
        }
      ],
      "source": [
        "len(preds)"
      ]
    },
    {
      "cell_type": "code",
      "execution_count": 19,
      "metadata": {
        "colab": {
          "base_uri": "https://localhost:8080/"
        },
        "id": "nl6OXShjdsp8",
        "outputId": "39485486-4c20-4a32-bfca-a0141db1592e"
      },
      "outputs": [
        {
          "data": {
            "text/plain": [
              "(281, 90, 1)"
            ]
          },
          "execution_count": 19,
          "metadata": {},
          "output_type": "execute_result"
        }
      ],
      "source": [
        "preds.shape"
      ]
    },
    {
      "cell_type": "code",
      "execution_count": 20,
      "metadata": {
        "colab": {
          "base_uri": "https://localhost:8080/"
        },
        "id": "e-jZrP5Uck-G",
        "outputId": "1dcc3b11-7657-428b-e055-2252aa93d03b"
      },
      "outputs": [
        {
          "data": {
            "text/plain": [
              "69.0"
            ]
          },
          "execution_count": 20,
          "metadata": {},
          "output_type": "execute_result"
        }
      ],
      "source": [
        "sum(y_test[:, 0, :].squeeze())"
      ]
    },
    {
      "cell_type": "code",
      "execution_count": 21,
      "metadata": {
        "colab": {
          "base_uri": "https://localhost:8080/"
        },
        "id": "bCrKs3b7MgP3",
        "outputId": "c064c48a-4262-4a27-f3d5-50458ec85b6b"
      },
      "outputs": [
        {
          "name": "stdout",
          "output_type": "stream",
          "text": [
            "AUC: 0.8349056603773585\n",
            "Accuracy: 0.8185\n",
            "F1 Score: 0.6531\n",
            "Negative Log-Likelihood: 6.5417\n",
            "Precision: 0.6154\n",
            "Recall: 0.6957\n"
          ]
        }
      ],
      "source": [
        "from sklearn.metrics import roc_curve, auc, accuracy_score, f1_score, log_loss, precision_score, recall_score\n",
        "# get 0/1 binary label for each patient encounter\n",
        "label = y_test[:, 0, :].squeeze()\n",
        "\n",
        "# get the last prediction in [0,1] for the patient\n",
        "prediction = preds[:, -1, :].squeeze()\n",
        "\n",
        "# compute ROC curve for predictions\n",
        "rnn_roc = roc_curve(label,prediction)\n",
        "\n",
        "# compute the area under the curve of prediction ROC\n",
        "rnn_auc = auc(rnn_roc[0], rnn_roc[1])\n",
        "\n",
        "print(f\"AUC: {rnn_auc}\")\n",
        "thresholds = rnn_roc[2]\n",
        "# Finding best threshold using Youden's J statistic\n",
        "optimal_idx = np.argmax(rnn_roc[1]-rnn_roc[0])\n",
        "optimal_threshold = thresholds[optimal_idx]\n",
        "\n",
        "accuracy = accuracy_score(label, prediction>=optimal_threshold)\n",
        "f1 = f1_score(label, prediction>=optimal_threshold)\n",
        "nll = log_loss(label, prediction>=optimal_threshold)\n",
        "precision = precision_score(label, prediction>=optimal_threshold)\n",
        "recall = recall_score(label, prediction>=optimal_threshold)\n",
        "\n",
        "print(f\"Accuracy: {accuracy:.4f}\")\n",
        "print(f\"F1 Score: {f1:.4f}\")\n",
        "print(f\"Negative Log-Likelihood: {nll:.4f}\")\n",
        "print(f\"Precision: {precision:.4f}\")\n",
        "print(f\"Recall: {recall:.4f}\")"
      ]
    },
    {
      "cell_type": "code",
      "execution_count": 22,
      "metadata": {
        "colab": {
          "base_uri": "https://localhost:8080/",
          "height": 0
        },
        "id": "vFIpecdvRfX8",
        "outputId": "faf92784-ec41-4b73-c8de-2dc873aa46fe"
      },
      "outputs": [
        {
          "data": {
            "image/png": "[encoded data removed]",
            "text/plain": [
              "<Figure size 700x500 with 1 Axes>"
            ]
          },
          "metadata": {},
          "output_type": "display_data"
        }
      ],
      "source": [
        "# plot rocs & display AUCs\n",
        "plt.figure(figsize=(7, 5))\n",
        "line_kwargs = {'linewidth': 4, 'alpha': 0.8}\n",
        "plt.plot(rnn_roc[0], rnn_roc[1], label='AUC: %0.3f' % rnn_auc, color='#6AA84F', **line_kwargs)\n",
        "plt.legend(loc='lower right', fontsize=20)\n",
        "plt.xlim((-0.05, 1.05))\n",
        "plt.ylim((-0.05, 1.05))\n",
        "plt.xticks([0, 0.25, 0.5, 0.75, 1.0], fontsize=14)\n",
        "plt.yticks([0, 0.25, 0.5, 0.75, 1.0], fontsize=14)\n",
        "plt.xlabel(\"False Positive Rate\", fontsize=18)\n",
        "plt.ylabel(\"True Positive Rate\", fontsize=18)\n",
        "plt.title(\"In-hospital Mortality Prediction ROC Curve\", fontsize=24)\n",
        "plt.grid(alpha=0.25)\n",
        "plt.tight_layout()"
      ]
    },
    {
      "cell_type": "markdown",
      "metadata": {
        "id": "XkfiFOvzIbRb"
      },
      "source": [
        "## Performance by subgroup"
      ]
    },
    {
      "cell_type": "markdown",
      "metadata": {
        "id": "yMrN67cSIj1k"
      },
      "source": [
        "### By gender"
      ]
    },
    {
      "cell_type": "markdown",
      "metadata": {
        "id": "scmca0u6KgHa"
      },
      "source": [
        " 'steroids',\n",
        " 'antibiotics',\n",
        " 'admissioncount',\n",
        " 'gender',\n",
        " 'age',\n",
        " 'weight',\n",
        " 'sofa_resp',\n",
        " 'sofa_cns',\n",
        " 'sofa_cardio',\n",
        " 'dose_drug',\n",
        " 'Hematocrit',\n",
        " 'Hemoglobine',\n",
        " 'Leucocyten',\n",
        " 'Thrombocyten',\n",
        " 'Bilirubine',\n",
        " 'Kreatinine',\n",
        " 'Lactaat',\n",
        " 'Breathing Rate Spontaneous',\n",
        " 'Sodium',\n",
        " 'Calcium',\n",
        " 'HR',\n",
        " 'Saturation'"
      ]
    },
    {
      "cell_type": "code",
      "execution_count": null,
      "metadata": {
        "id": "llqWufzrLNOg"
      },
      "outputs": [],
      "source": [
        "woman_subgroup = test[test['gender']==1]\n",
        "x_test = woman_subgroup[col_x]\n",
        "y_test = woman_subgroup[col_y]"
      ]
    },
    {
      "cell_type": "code",
      "execution_count": null,
      "metadata": {
        "colab": {
          "base_uri": "https://localhost:8080/"
        },
        "id": "WYjkWuGxO8dG",
        "outputId": "7fadf1c2-0f36-4f7e-9760-42f33acc3fb9"
      },
      "outputs": [
        {
          "name": "stdout",
          "output_type": "stream",
          "text": [
            "X_test shape: (109, 90, 22) | y_test shape: (109, 90, 1)\n"
          ]
        }
      ],
      "source": [
        "x_test.set_index(['admissionid','time'], append=True, inplace=True)\n",
        "y_test.set_index(['admissionid','time'], append=True, inplace=True)\n",
        "\n",
        "teeId = x_test.index.levels[1]\n",
        "\n",
        "X_test = [x_test.loc[(slice(None), patient), :].values for patient in teeId]\n",
        "y_test = [y_test.loc[(slice(None), patient), :].values for patient in teeId]\n",
        "\n",
        "X_test = sequence.pad_sequences(X_test, dtype='float32', maxlen=maxlen, padding='post', truncating='post')\n",
        "y_test = sequence.pad_sequences(y_test, dtype='float32', maxlen=maxlen, padding='post', truncating='post')\n",
        "print(\"X_test shape: %s | y_test shape: %s\" % (str(X_test.shape), str(y_test.shape)))"
      ]
    },
    {
      "cell_type": "code",
      "execution_count": null,
      "metadata": {
        "colab": {
          "base_uri": "https://localhost:8080/"
        },
        "id": "JouLeO-APOi4",
        "outputId": "f0a6e1d1-5fa6-4c7a-efd2-e67aa4517ffb"
      },
      "outputs": [
        {
          "name": "stdout",
          "output_type": "stream",
          "text": [
            "4/4 [==============================] - 0s 27ms/step\n",
            "0.8098223615464996\n",
            "Accuracy: 0.8624\n",
            "F1 Score: 0.6809\n",
            "Negative Log-Likelihood: 4.9601\n",
            "Precision: 0.6400\n",
            "Recall: 0.7273\n"
          ]
        }
      ],
      "source": [
        "# Generate model results on the holdout validation set\n",
        "preds = model.predict(X_test)\n",
        "# get 0/1 binary label for each patient encounter\n",
        "label = y_test[:, 0, :].squeeze()\n",
        "\n",
        "# get the last prediction in [0,1] for the patient\n",
        "prediction = preds[:, -1, :].squeeze()\n",
        "\n",
        "# compute ROC curve for predictions\n",
        "rnn_roc = roc_curve(label,prediction)\n",
        "\n",
        "# compute the area under the curve of prediction ROC\n",
        "rnn_auc = auc(rnn_roc[0], rnn_roc[1])\n",
        "\n",
        "print(rnn_auc)\n",
        "thresholds = rnn_roc[2]\n",
        "# Finding best threshold using Youden's J statistic\n",
        "optimal_idx = np.argmax(rnn_roc[1]-rnn_roc[0])\n",
        "optimal_threshold = thresholds[optimal_idx]\n",
        "\n",
        "accuracy = accuracy_score(label, prediction>=optimal_threshold)\n",
        "f1 = f1_score(label, prediction>=optimal_threshold)\n",
        "nll = log_loss(label, prediction>=optimal_threshold)\n",
        "precision = precision_score(label, prediction>=optimal_threshold)\n",
        "recall = recall_score(label, prediction>=optimal_threshold)\n",
        "\n",
        "print(f\"Accuracy: {accuracy:.4f}\")\n",
        "print(f\"F1 Score: {f1:.4f}\")\n",
        "print(f\"Negative Log-Likelihood: {nll:.4f}\")\n",
        "print(f\"Precision: {precision:.4f}\")\n",
        "print(f\"Recall: {recall:.4f}\")"
      ]
    },
    {
      "cell_type": "code",
      "execution_count": null,
      "metadata": {
        "id": "hDIk7gnDPfB9"
      },
      "outputs": [],
      "source": [
        "man_subgroup = test[test['gender']==0]\n",
        "x_test = man_subgroup[col_x]\n",
        "y_test = man_subgroup[col_y]"
      ]
    },
    {
      "cell_type": "code",
      "execution_count": null,
      "metadata": {
        "colab": {
          "base_uri": "https://localhost:8080/"
        },
        "id": "SzfJ1glNPiyB",
        "outputId": "31b635bd-ef2b-4ada-dcbd-a49037d21dfd"
      },
      "outputs": [
        {
          "name": "stdout",
          "output_type": "stream",
          "text": [
            "X_test shape: (172, 90, 22) | y_test shape: (172, 90, 1)\n"
          ]
        }
      ],
      "source": [
        "x_test.set_index(['admissionid','time'], append=True, inplace=True)\n",
        "y_test.set_index(['admissionid','time'], append=True, inplace=True)\n",
        "\n",
        "teeId = x_test.index.levels[1]\n",
        "\n",
        "X_test = [x_test.loc[(slice(None), patient), :].values for patient in teeId]\n",
        "y_test = [y_test.loc[(slice(None), patient), :].values for patient in teeId]\n",
        "\n",
        "X_test = sequence.pad_sequences(X_test, dtype='float32', maxlen=maxlen, padding='post', truncating='post')\n",
        "y_test = sequence.pad_sequences(y_test, dtype='float32', maxlen=maxlen, padding='post', truncating='post')\n",
        "print(\"X_test shape: %s | y_test shape: %s\" % (str(X_test.shape), str(y_test.shape)))"
      ]
    },
    {
      "cell_type": "code",
      "execution_count": null,
      "metadata": {
        "colab": {
          "base_uri": "https://localhost:8080/"
        },
        "id": "9MxwYdcUPkb1",
        "outputId": "a22eb2cf-b6e6-4099-a69b-abeb6824e8ce"
      },
      "outputs": [
        {
          "name": "stdout",
          "output_type": "stream",
          "text": [
            "6/6 [==============================] - 0s 27ms/step\n",
            "0.8471489361702128\n",
            "Accuracy: 0.8198\n",
            "F1 Score: 0.6737\n",
            "Negative Log-Likelihood: 6.4962\n",
            "Precision: 0.6667\n",
            "Recall: 0.6809\n"
          ]
        }
      ],
      "source": [
        "# Generate model results on the holdout validation set\n",
        "preds = model.predict(X_test)\n",
        "# get 0/1 binary label for each patient encounter\n",
        "label = y_test[:, 0, :].squeeze()\n",
        "\n",
        "# get the last prediction in [0,1] for the patient\n",
        "prediction = preds[:, -1, :].squeeze()\n",
        "\n",
        "# compute ROC curve for predictions\n",
        "rnn_roc = roc_curve(label,prediction)\n",
        "\n",
        "# compute the area under the curve of prediction ROC\n",
        "rnn_auc = auc(rnn_roc[0], rnn_roc[1])\n",
        "\n",
        "print(rnn_auc)\n",
        "thresholds = rnn_roc[2]\n",
        "# Finding best threshold using Youden's J statistic\n",
        "optimal_idx = np.argmax(rnn_roc[1]-rnn_roc[0])\n",
        "optimal_threshold = thresholds[optimal_idx]\n",
        "\n",
        "accuracy = accuracy_score(label, prediction>=optimal_threshold)\n",
        "f1 = f1_score(label, prediction>=optimal_threshold)\n",
        "nll = log_loss(label, prediction>=optimal_threshold)\n",
        "precision = precision_score(label, prediction>=optimal_threshold)\n",
        "recall = recall_score(label, prediction>=optimal_threshold)\n",
        "\n",
        "print(f\"Accuracy: {accuracy:.4f}\")\n",
        "print(f\"F1 Score: {f1:.4f}\")\n",
        "print(f\"Negative Log-Likelihood: {nll:.4f}\")\n",
        "print(f\"Precision: {precision:.4f}\")\n",
        "print(f\"Recall: {recall:.4f}\")"
      ]
    },
    {
      "cell_type": "markdown",
      "metadata": {
        "id": "ehU4EPLmIliZ"
      },
      "source": [
        "### By age group"
      ]
    },
    {
      "cell_type": "code",
      "execution_count": 23,
      "metadata": {
        "colab": {
          "base_uri": "https://localhost:8080/"
        },
        "id": "5cZajSfIQwAJ",
        "outputId": "2aec0a4b-c361-4814-f464-8e47f59db139"
      },
      "outputs": [
        {
          "name": "stdout",
          "output_type": "stream",
          "text": [
            "X_test shape: (30, 90, 22) | y_test shape: (30, 90, 1)\n",
            "1/1 [==============================] - 0s 45ms/step\n",
            "AUC: 0.9821428571428572\n",
            "Accuracy: 0.9667\n",
            "F1 Score: 0.8000\n",
            "Negative Log-Likelihood: 1.2015\n",
            "Precision: 0.6667\n",
            "Recall: 1.0000\n"
          ]
        }
      ],
      "source": [
        "young_subgroup = test[test['age']<25]\n",
        "x_test = young_subgroup[col_x]\n",
        "y_test = young_subgroup[col_y]\n",
        "x_test.set_index(['admissionid','time'], append=True, inplace=True)\n",
        "y_test.set_index(['admissionid','time'], append=True, inplace=True)\n",
        "\n",
        "teeId = x_test.index.levels[1]\n",
        "\n",
        "X_test = [x_test.loc[(slice(None), patient), :].values for patient in teeId]\n",
        "y_test = [y_test.loc[(slice(None), patient), :].values for patient in teeId]\n",
        "\n",
        "X_test = sequence.pad_sequences(X_test, dtype='float32', maxlen=maxlen, padding='post', truncating='post')\n",
        "y_test = sequence.pad_sequences(y_test, dtype='float32', maxlen=maxlen, padding='post', truncating='post')\n",
        "print(\"X_test shape: %s | y_test shape: %s\" % (str(X_test.shape), str(y_test.shape)))\n",
        "# Generate model results on the holdout validation set\n",
        "preds = model.predict(X_test)\n",
        "# get 0/1 binary label for each patient encounter\n",
        "label = y_test[:, 0, :].squeeze()\n",
        "\n",
        "# get the last prediction in [0,1] for the patient\n",
        "prediction = preds[:, -1, :].squeeze()\n",
        "\n",
        "# compute ROC curve for predictions\n",
        "rnn_roc = roc_curve(label,prediction)\n",
        "\n",
        "# compute the area under the curve of prediction ROC\n",
        "rnn_auc = auc(rnn_roc[0], rnn_roc[1])\n",
        "\n",
        "print(f\"AUC: {rnn_auc}\")\n",
        "thresholds = rnn_roc[2]\n",
        "# Finding best threshold using Youden's J statistic\n",
        "optimal_idx = np.argmax(rnn_roc[1]-rnn_roc[0])\n",
        "optimal_threshold = thresholds[optimal_idx]\n",
        "\n",
        "accuracy = accuracy_score(label, prediction>=optimal_threshold)\n",
        "f1 = f1_score(label, prediction>=optimal_threshold)\n",
        "nll = log_loss(label, prediction>=optimal_threshold)\n",
        "precision = precision_score(label, prediction>=optimal_threshold)\n",
        "recall = recall_score(label, prediction>=optimal_threshold)\n",
        "\n",
        "print(f\"Accuracy: {accuracy:.4f}\")\n",
        "print(f\"F1 Score: {f1:.4f}\")\n",
        "print(f\"Negative Log-Likelihood: {nll:.4f}\")\n",
        "print(f\"Precision: {precision:.4f}\")\n",
        "print(f\"Recall: {recall:.4f}\")"
      ]
    },
    {
      "cell_type": "code",
      "execution_count": 24,
      "metadata": {
        "colab": {
          "base_uri": "https://localhost:8080/"
        },
        "id": "8jm_BIawQ7-t",
        "outputId": "83614439-8f4f-45dc-a797-2a82ab45b181"
      },
      "outputs": [
        {
          "name": "stdout",
          "output_type": "stream",
          "text": [
            "X_test shape: (143, 90, 22) | y_test shape: (143, 90, 1)\n",
            "5/5 [==============================] - 0s 28ms/step\n",
            "AUC: 0.8037267080745343\n",
            "Accuracy: 0.8811\n",
            "F1 Score: 0.6792\n",
            "Negative Log-Likelihood: 4.2849\n",
            "Precision: 0.7200\n",
            "Recall: 0.6429\n"
          ]
        }
      ],
      "source": [
        "middleage_subgroup = test[(test['age']>=25) & (test['age']<=60)]\n",
        "x_test = middleage_subgroup[col_x]\n",
        "y_test = middleage_subgroup[col_y]\n",
        "x_test.set_index(['admissionid','time'], append=True, inplace=True)\n",
        "y_test.set_index(['admissionid','time'], append=True, inplace=True)\n",
        "\n",
        "teeId = x_test.index.levels[1]\n",
        "\n",
        "X_test = [x_test.loc[(slice(None), patient), :].values for patient in teeId]\n",
        "y_test = [y_test.loc[(slice(None), patient), :].values for patient in teeId]\n",
        "\n",
        "X_test = sequence.pad_sequences(X_test, dtype='float32', maxlen=maxlen, padding='post', truncating='post')\n",
        "y_test = sequence.pad_sequences(y_test, dtype='float32', maxlen=maxlen, padding='post', truncating='post')\n",
        "print(\"X_test shape: %s | y_test shape: %s\" % (str(X_test.shape), str(y_test.shape)))\n",
        "# Generate model results on the holdout validation set\n",
        "preds = model.predict(X_test)\n",
        "# get 0/1 binary label for each patient encounter\n",
        "label = y_test[:, 0, :].squeeze()\n",
        "\n",
        "# get the last prediction in [0,1] for the patient\n",
        "prediction = preds[:, -1, :].squeeze()\n",
        "\n",
        "# compute ROC curve for predictions\n",
        "rnn_roc = roc_curve(label,prediction)\n",
        "\n",
        "# compute the area under the curve of prediction ROC\n",
        "rnn_auc = auc(rnn_roc[0], rnn_roc[1])\n",
        "\n",
        "print(f\"AUC: {rnn_auc}\")\n",
        "thresholds = rnn_roc[2]\n",
        "# Finding best threshold using Youden's J statistic\n",
        "optimal_idx = np.argmax(rnn_roc[1]-rnn_roc[0])\n",
        "optimal_threshold = thresholds[optimal_idx]\n",
        "\n",
        "accuracy = accuracy_score(label, prediction>=optimal_threshold)\n",
        "f1 = f1_score(label, prediction>=optimal_threshold)\n",
        "nll = log_loss(label, prediction>=optimal_threshold)\n",
        "precision = precision_score(label, prediction>=optimal_threshold)\n",
        "recall = recall_score(label, prediction>=optimal_threshold)\n",
        "\n",
        "print(f\"Accuracy: {accuracy:.4f}\")\n",
        "print(f\"F1 Score: {f1:.4f}\")\n",
        "print(f\"Negative Log-Likelihood: {nll:.4f}\")\n",
        "print(f\"Precision: {precision:.4f}\")\n",
        "print(f\"Recall: {recall:.4f}\")"
      ]
    },
    {
      "cell_type": "code",
      "execution_count": 25,
      "metadata": {
        "colab": {
          "base_uri": "https://localhost:8080/"
        },
        "id": "KP4FyDZQRGbb",
        "outputId": "4021e5e3-9649-4a50-bb85-59bd3b81697a"
      },
      "outputs": [
        {
          "name": "stdout",
          "output_type": "stream",
          "text": [
            "X_test shape: (108, 90, 22) | y_test shape: (108, 90, 1)\n",
            "4/4 [==============================] - 0s 27ms/step\n",
            "AUC: 0.8063916759568934\n",
            "Accuracy: 0.8056\n",
            "F1 Score: 0.6557\n",
            "Negative Log-Likelihood: 7.0085\n",
            "Precision: 0.9091\n",
            "Recall: 0.5128\n"
          ]
        }
      ],
      "source": [
        "old_subgroup = test[test['age']>60]\n",
        "x_test = old_subgroup[col_x]\n",
        "y_test = old_subgroup[col_y]\n",
        "x_test.set_index(['admissionid','time'], append=True, inplace=True)\n",
        "y_test.set_index(['admissionid','time'], append=True, inplace=True)\n",
        "\n",
        "teeId = x_test.index.levels[1]\n",
        "\n",
        "X_test = [x_test.loc[(slice(None), patient), :].values for patient in teeId]\n",
        "y_test = [y_test.loc[(slice(None), patient), :].values for patient in teeId]\n",
        "\n",
        "X_test = sequence.pad_sequences(X_test, dtype='float32', maxlen=maxlen, padding='post', truncating='post')\n",
        "y_test = sequence.pad_sequences(y_test, dtype='float32', maxlen=maxlen, padding='post', truncating='post')\n",
        "print(\"X_test shape: %s | y_test shape: %s\" % (str(X_test.shape), str(y_test.shape)))\n",
        "# Generate model results on the holdout validation set\n",
        "preds = model.predict(X_test)\n",
        "# get 0/1 binary label for each patient encounter\n",
        "label = y_test[:, 0, :].squeeze()\n",
        "\n",
        "# get the last prediction in [0,1] for the patient\n",
        "prediction = preds[:, -1, :].squeeze()\n",
        "\n",
        "# compute ROC curve for predictions\n",
        "rnn_roc = roc_curve(label,prediction)\n",
        "\n",
        "# compute the area under the curve of prediction ROC\n",
        "rnn_auc = auc(rnn_roc[0], rnn_roc[1])\n",
        "\n",
        "print(f\"AUC: {rnn_auc}\")\n",
        "thresholds = rnn_roc[2]\n",
        "# Finding best threshold using Youden's J statistic\n",
        "optimal_idx = np.argmax(rnn_roc[1]-rnn_roc[0])\n",
        "optimal_threshold = thresholds[optimal_idx]\n",
        "\n",
        "accuracy = accuracy_score(label, prediction>=optimal_threshold)\n",
        "f1 = f1_score(label, prediction>=optimal_threshold)\n",
        "nll = log_loss(label, prediction>=optimal_threshold)\n",
        "precision = precision_score(label, prediction>=optimal_threshold)\n",
        "recall = recall_score(label, prediction>=optimal_threshold)\n",
        "\n",
        "print(f\"Accuracy: {accuracy:.4f}\")\n",
        "print(f\"F1 Score: {f1:.4f}\")\n",
        "print(f\"Negative Log-Likelihood: {nll:.4f}\")\n",
        "print(f\"Precision: {precision:.4f}\")\n",
        "print(f\"Recall: {recall:.4f}\")\n"
      ]
    },
    {
      "cell_type": "markdown",
      "metadata": {
        "id": "nXu9JZjYKnD8"
      },
      "source": [
        "### By admissioncount"
      ]
    },
    {
      "cell_type": "code",
      "execution_count": null,
      "metadata": {
        "colab": {
          "base_uri": "https://localhost:8080/"
        },
        "id": "HA5V2YoBUkMT",
        "outputId": "d8289827-a273-44bb-b63f-6cff14dd2dde"
      },
      "outputs": [
        {
          "name": "stdout",
          "output_type": "stream",
          "text": [
            "X_test shape: (247, 90, 22) | y_test shape: (247, 90, 1)\n",
            "8/8 [==============================] - 0s 30ms/step\n",
            "AUC: 0.8387096774193548\n",
            "Accuracy: 0.8097\n",
            "F1 Score: 0.6412\n",
            "Negative Log-Likelihood: 6.8585\n",
            "Precision: 0.6000\n",
            "Recall: 0.6885\n"
          ]
        }
      ],
      "source": [
        "singleadmission_subgroup = test[test['admissioncount']==1]\n",
        "x_test = singleadmission_subgroup[col_x]\n",
        "y_test = singleadmission_subgroup[col_y]\n",
        "x_test.set_index(['admissionid','time'], append=True, inplace=True)\n",
        "y_test.set_index(['admissionid','time'], append=True, inplace=True)\n",
        "\n",
        "teeId = x_test.index.levels[1]\n",
        "\n",
        "X_test = [x_test.loc[(slice(None), patient), :].values for patient in teeId]\n",
        "y_test = [y_test.loc[(slice(None), patient), :].values for patient in teeId]\n",
        "\n",
        "X_test = sequence.pad_sequences(X_test, dtype='float32', maxlen=maxlen, padding='post', truncating='post')\n",
        "y_test = sequence.pad_sequences(y_test, dtype='float32', maxlen=maxlen, padding='post', truncating='post')\n",
        "print(\"X_test shape: %s | y_test shape: %s\" % (str(X_test.shape), str(y_test.shape)))\n",
        "# Generate model results on the holdout validation set\n",
        "preds = model.predict(X_test)\n",
        "# get 0/1 binary label for each patient encounter\n",
        "label = y_test[:, 0, :].squeeze()\n",
        "\n",
        "# get the last prediction in [0,1] for the patient\n",
        "prediction = preds[:, -1, :].squeeze()\n",
        "\n",
        "# compute ROC curve for predictions\n",
        "rnn_roc = roc_curve(label,prediction)\n",
        "\n",
        "# compute the area under the curve of prediction ROC\n",
        "rnn_auc = auc(rnn_roc[0], rnn_roc[1])\n",
        "\n",
        "print(f\"AUC: {rnn_auc}\")\n",
        "thresholds = rnn_roc[2]\n",
        "# Finding best threshold using Youden's J statistic\n",
        "optimal_idx = np.argmax(rnn_roc[1]-rnn_roc[0])\n",
        "optimal_threshold = thresholds[optimal_idx]\n",
        "\n",
        "accuracy = accuracy_score(label, prediction>=optimal_threshold)\n",
        "f1 = f1_score(label, prediction>=optimal_threshold)\n",
        "nll = log_loss(label, prediction>=optimal_threshold)\n",
        "precision = precision_score(label, prediction>=optimal_threshold)\n",
        "recall = recall_score(label, prediction>=optimal_threshold)\n",
        "\n",
        "print(f\"Accuracy: {accuracy:.4f}\")\n",
        "print(f\"F1 Score: {f1:.4f}\")\n",
        "print(f\"Negative Log-Likelihood: {nll:.4f}\")\n",
        "print(f\"Precision: {precision:.4f}\")\n",
        "print(f\"Recall: {recall:.4f}\")\n"
      ]
    },
    {
      "cell_type": "code",
      "execution_count": null,
      "metadata": {
        "colab": {
          "base_uri": "https://localhost:8080/"
        },
        "id": "tn1W1aOXUqY2",
        "outputId": "9559717f-1e72-4373-9340-f0716e84d3c0"
      },
      "outputs": [
        {
          "name": "stdout",
          "output_type": "stream",
          "text": [
            "X_test shape: (34, 90, 22) | y_test shape: (34, 90, 1)\n",
            "2/2 [==============================] - 0s 20ms/step\n",
            "AUC: 0.7980769230769231\n",
            "Accuracy: 0.8824\n",
            "F1 Score: 0.7500\n",
            "Negative Log-Likelihood: 4.2404\n",
            "Precision: 0.7500\n",
            "Recall: 0.7500\n"
          ]
        }
      ],
      "source": [
        "multiple_admission_subgroup = test[test['admissioncount']>1]\n",
        "x_test = multiple_admission_subgroup[col_x]\n",
        "y_test = multiple_admission_subgroup[col_y]\n",
        "x_test.set_index(['admissionid','time'], append=True, inplace=True)\n",
        "y_test.set_index(['admissionid','time'], append=True, inplace=True)\n",
        "\n",
        "teeId = x_test.index.levels[1]\n",
        "\n",
        "X_test = [x_test.loc[(slice(None), patient), :].values for patient in teeId]\n",
        "y_test = [y_test.loc[(slice(None), patient), :].values for patient in teeId]\n",
        "\n",
        "X_test = sequence.pad_sequences(X_test, dtype='float32', maxlen=maxlen, padding='post', truncating='post')\n",
        "y_test = sequence.pad_sequences(y_test, dtype='float32', maxlen=maxlen, padding='post', truncating='post')\n",
        "print(\"X_test shape: %s | y_test shape: %s\" % (str(X_test.shape), str(y_test.shape)))\n",
        "# Generate model results on the holdout validation set\n",
        "preds = model.predict(X_test)\n",
        "# get 0/1 binary label for each patient encounter\n",
        "label = y_test[:, 0, :].squeeze()\n",
        "\n",
        "# get the last prediction in [0,1] for the patient\n",
        "prediction = preds[:, -1, :].squeeze()\n",
        "\n",
        "# compute ROC curve for predictions\n",
        "rnn_roc = roc_curve(label,prediction)\n",
        "\n",
        "# compute the area under the curve of prediction ROC\n",
        "rnn_auc = auc(rnn_roc[0], rnn_roc[1])\n",
        "\n",
        "print(f\"AUC: {rnn_auc}\")\n",
        "thresholds = rnn_roc[2]\n",
        "# Finding best threshold using Youden's J statistic\n",
        "optimal_idx = np.argmax(rnn_roc[1]-rnn_roc[0])\n",
        "optimal_threshold = thresholds[optimal_idx]\n",
        "\n",
        "accuracy = accuracy_score(label, prediction>=optimal_threshold)\n",
        "f1 = f1_score(label, prediction>=optimal_threshold)\n",
        "nll = log_loss(label, prediction>=optimal_threshold)\n",
        "precision = precision_score(label, prediction>=optimal_threshold)\n",
        "recall = recall_score(label, prediction>=optimal_threshold)\n",
        "\n",
        "print(f\"Accuracy: {accuracy:.4f}\")\n",
        "print(f\"F1 Score: {f1:.4f}\")\n",
        "print(f\"Negative Log-Likelihood: {nll:.4f}\")\n",
        "print(f\"Precision: {precision:.4f}\")\n",
        "print(f\"Recall: {recall:.4f}\")\n"
      ]
    },
    {
      "cell_type": "markdown",
      "metadata": {
        "id": "XNeQ4X5xInnP"
      },
      "source": [
        "### By steroid medication"
      ]
    },
    {
      "cell_type": "code",
      "execution_count": 31,
      "metadata": {
        "colab": {
          "base_uri": "https://localhost:8080/"
        },
        "id": "prtoDarCU7FH",
        "outputId": "fda12dc7-73b2-4fd2-e971-592665a7c1fe"
      },
      "outputs": [
        {
          "name": "stdout",
          "output_type": "stream",
          "text": [
            "X_test shape: (111, 90, 22) | y_test shape: (111, 90, 1)\n",
            "4/4 [==============================] - 1s 120ms/step\n",
            "AUC: 0.8738030095759234\n",
            "Accuracy: 0.8559\n",
            "F1 Score: 0.7949\n",
            "Negative Log-Likelihood: 5.1955\n",
            "Precision: 0.8857\n",
            "Recall: 0.7209\n"
          ]
        }
      ],
      "source": [
        "admission_with_steroid = df[df['steroids'] == 1]['admissionid'].unique()\n",
        "steroid_subgroup = test[test['admissionid'].isin(admission_with_steroid)]\n",
        "\n",
        "x_test = steroid_subgroup[col_x]\n",
        "y_test = steroid_subgroup[col_y]\n",
        "x_test.set_index(['admissionid','time'], append=True, inplace=True)\n",
        "y_test.set_index(['admissionid','time'], append=True, inplace=True)\n",
        "\n",
        "teeId = x_test.index.levels[1]\n",
        "\n",
        "X_test = [x_test.loc[(slice(None), patient), :].values for patient in teeId]\n",
        "y_test = [y_test.loc[(slice(None), patient), :].values for patient in teeId]\n",
        "\n",
        "X_test = sequence.pad_sequences(X_test, dtype='float32', maxlen=maxlen, padding='post', truncating='post')\n",
        "y_test = sequence.pad_sequences(y_test, dtype='float32', maxlen=maxlen, padding='post', truncating='post')\n",
        "print(\"X_test shape: %s | y_test shape: %s\" % (str(X_test.shape), str(y_test.shape)))\n",
        "# Generate model results on the holdout validation set\n",
        "preds = model.predict(X_test)\n",
        "# get 0/1 binary label for each patient encounter\n",
        "label = y_test[:, 0, :].squeeze()\n",
        "\n",
        "# get the last prediction in [0,1] for the patient\n",
        "prediction = preds[:, -1, :].squeeze()\n",
        "\n",
        "# compute ROC curve for predictions\n",
        "rnn_roc = roc_curve(label,prediction)\n",
        "\n",
        "# compute the area under the curve of prediction ROC\n",
        "rnn_auc = auc(rnn_roc[0], rnn_roc[1])\n",
        "\n",
        "print(f\"AUC: {rnn_auc}\")\n",
        "thresholds = rnn_roc[2]\n",
        "# Finding best threshold using Youden's J statistic\n",
        "optimal_idx = np.argmax(rnn_roc[1]-rnn_roc[0])\n",
        "optimal_threshold = thresholds[optimal_idx]\n",
        "\n",
        "accuracy = accuracy_score(label, prediction>=optimal_threshold)\n",
        "f1 = f1_score(label, prediction>=optimal_threshold)\n",
        "nll = log_loss(label, prediction>=optimal_threshold)\n",
        "precision = precision_score(label, prediction>=optimal_threshold)\n",
        "recall = recall_score(label, prediction>=optimal_threshold)\n",
        "\n",
        "print(f\"Accuracy: {accuracy:.4f}\")\n",
        "print(f\"F1 Score: {f1:.4f}\")\n",
        "print(f\"Negative Log-Likelihood: {nll:.4f}\")\n",
        "print(f\"Precision: {precision:.4f}\")\n",
        "print(f\"Recall: {recall:.4f}\")\n"
      ]
    },
    {
      "cell_type": "code",
      "execution_count": 32,
      "metadata": {
        "colab": {
          "base_uri": "https://localhost:8080/"
        },
        "id": "RxbfKYA2VDac",
        "outputId": "659deecf-ec6d-42af-9c1f-8a843cacccbc"
      },
      "outputs": [
        {
          "name": "stdout",
          "output_type": "stream",
          "text": [
            "X_test shape: (170, 90, 22) | y_test shape: (170, 90, 1)\n",
            "6/6 [==============================] - 1s 96ms/step\n",
            "AUC: 0.766826923076923\n",
            "Accuracy: 0.8353\n",
            "F1 Score: 0.5000\n",
            "Negative Log-Likelihood: 5.9366\n",
            "Precision: 0.4667\n",
            "Recall: 0.5385\n"
          ]
        }
      ],
      "source": [
        "admission_with_steroid = df[df['steroids'] == 1]['admissionid'].unique()\n",
        "no_steroid_subgroup = test[~test['admissionid'].isin(admission_with_steroid)]\n",
        "\n",
        "x_test = no_steroid_subgroup[col_x]\n",
        "y_test = no_steroid_subgroup[col_y]\n",
        "x_test.set_index(['admissionid','time'], append=True, inplace=True)\n",
        "y_test.set_index(['admissionid','time'], append=True, inplace=True)\n",
        "\n",
        "teeId = x_test.index.levels[1]\n",
        "\n",
        "X_test = [x_test.loc[(slice(None), patient), :].values for patient in teeId]\n",
        "y_test = [y_test.loc[(slice(None), patient), :].values for patient in teeId]\n",
        "\n",
        "X_test = sequence.pad_sequences(X_test, dtype='float32', maxlen=maxlen, padding='post', truncating='post')\n",
        "y_test = sequence.pad_sequences(y_test, dtype='float32', maxlen=maxlen, padding='post', truncating='post')\n",
        "print(\"X_test shape: %s | y_test shape: %s\" % (str(X_test.shape), str(y_test.shape)))\n",
        "# Generate model results on the holdout validation set\n",
        "preds = model.predict(X_test)\n",
        "# get 0/1 binary label for each patient encounter\n",
        "label = y_test[:, 0, :].squeeze()\n",
        "\n",
        "# get the last prediction in [0,1] for the patient\n",
        "prediction = preds[:, -1, :].squeeze()\n",
        "\n",
        "# compute ROC curve for predictions\n",
        "rnn_roc = roc_curve(label,prediction)\n",
        "\n",
        "# compute the area under the curve of prediction ROC\n",
        "rnn_auc = auc(rnn_roc[0], rnn_roc[1])\n",
        "\n",
        "print(f\"AUC: {rnn_auc}\")\n",
        "thresholds = rnn_roc[2]\n",
        "# Finding best threshold using Youden's J statistic\n",
        "optimal_idx = np.argmax(rnn_roc[1]-rnn_roc[0])\n",
        "optimal_threshold = thresholds[optimal_idx]\n",
        "\n",
        "accuracy = accuracy_score(label, prediction>=optimal_threshold)\n",
        "f1 = f1_score(label, prediction>=optimal_threshold)\n",
        "nll = log_loss(label, prediction>=optimal_threshold)\n",
        "precision = precision_score(label, prediction>=optimal_threshold)\n",
        "recall = recall_score(label, prediction>=optimal_threshold)\n",
        "\n",
        "print(f\"Accuracy: {accuracy:.4f}\")\n",
        "print(f\"F1 Score: {f1:.4f}\")\n",
        "print(f\"Negative Log-Likelihood: {nll:.4f}\")\n",
        "print(f\"Precision: {precision:.4f}\")\n",
        "print(f\"Recall: {recall:.4f}\")\n"
      ]
    },
    {
      "cell_type": "markdown",
      "metadata": {
        "id": "1WTD0gt-IuDb"
      },
      "source": [
        "### By quick SOFA at admission"
      ]
    },
    {
      "cell_type": "code",
      "execution_count": 35,
      "metadata": {
        "colab": {
          "base_uri": "https://localhost:8080/"
        },
        "id": "AvuYuqz8Ii__",
        "outputId": "64d0d9e3-623a-44b3-8819-8c9d01f5ec8f"
      },
      "outputs": [
        {
          "name": "stdout",
          "output_type": "stream",
          "text": [
            "X_test shape: (260, 90, 22) | y_test shape: (260, 90, 1)\n",
            "9/9 [==============================] - 1s 103ms/step\n",
            "AUC: 0.6538584183673469\n",
            "Accuracy: 0.5962\n",
            "F1 Score: 0.4560\n",
            "Negative Log-Likelihood: 14.5561\n",
            "Precision: 0.3411\n",
            "Recall: 0.6875\n"
          ]
        }
      ],
      "source": [
        "high_sofa_subgroup = test[((test['sofa_resp']>=1)|(test['sofa_cns']>=1)|(test['sofa_cardio']>=1))&(test['time']==0)]\n",
        "x_test = high_sofa_subgroup[col_x]\n",
        "y_test = high_sofa_subgroup[col_y]\n",
        "x_test.set_index(['admissionid','time'], append=True, inplace=True)\n",
        "y_test.set_index(['admissionid','time'], append=True, inplace=True)\n",
        "\n",
        "teeId = x_test.index.levels[1]\n",
        "\n",
        "X_test = [x_test.loc[(slice(None), patient), :].values for patient in teeId]\n",
        "y_test = [y_test.loc[(slice(None), patient), :].values for patient in teeId]\n",
        "\n",
        "X_test = sequence.pad_sequences(X_test, dtype='float32', maxlen=maxlen, padding='post', truncating='post')\n",
        "y_test = sequence.pad_sequences(y_test, dtype='float32', maxlen=maxlen, padding='post', truncating='post')\n",
        "print(\"X_test shape: %s | y_test shape: %s\" % (str(X_test.shape), str(y_test.shape)))\n",
        "# Generate model results on the holdout validation set\n",
        "preds = model.predict(X_test)\n",
        "# get 0/1 binary label for each patient encounter\n",
        "label = y_test[:, 0, :].squeeze()\n",
        "\n",
        "# get the last prediction in [0,1] for the patient\n",
        "prediction = preds[:, -1, :].squeeze()\n",
        "\n",
        "# compute ROC curve for predictions\n",
        "rnn_roc = roc_curve(label,prediction)\n",
        "\n",
        "# compute the area under the curve of prediction ROC\n",
        "rnn_auc = auc(rnn_roc[0], rnn_roc[1])\n",
        "\n",
        "print(f\"AUC: {rnn_auc}\")\n",
        "thresholds = rnn_roc[2]\n",
        "# Finding best threshold using Youden's J statistic\n",
        "optimal_idx = np.argmax(rnn_roc[1]-rnn_roc[0])\n",
        "optimal_threshold = thresholds[optimal_idx]\n",
        "\n",
        "accuracy = accuracy_score(label, prediction>=optimal_threshold)\n",
        "f1 = f1_score(label, prediction>=optimal_threshold)\n",
        "nll = log_loss(label, prediction>=optimal_threshold)\n",
        "precision = precision_score(label, prediction>=optimal_threshold)\n",
        "recall = recall_score(label, prediction>=optimal_threshold)\n",
        "\n",
        "print(f\"Accuracy: {accuracy:.4f}\")\n",
        "print(f\"F1 Score: {f1:.4f}\")\n",
        "print(f\"Negative Log-Likelihood: {nll:.4f}\")\n",
        "print(f\"Precision: {precision:.4f}\")\n",
        "print(f\"Recall: {recall:.4f}\")\n"
      ]
    },
    {
      "cell_type": "code",
      "execution_count": 36,
      "metadata": {
        "colab": {
          "base_uri": "https://localhost:8080/"
        },
        "id": "ToiPE-F2YGRC",
        "outputId": "9dfc395a-35b0-427a-a620-85606c8f74d0"
      },
      "outputs": [
        {
          "name": "stdout",
          "output_type": "stream",
          "text": [
            "X_test shape: (21, 90, 22) | y_test shape: (21, 90, 1)\n",
            "1/1 [==============================] - 0s 45ms/step\n",
            "AUC: 0.6125\n",
            "Accuracy: 0.4762\n",
            "F1 Score: 0.4762\n",
            "Negative Log-Likelihood: 18.8800\n",
            "Precision: 0.3125\n",
            "Recall: 1.0000\n"
          ]
        }
      ],
      "source": [
        "low_sofa_subgroup = test[((test['sofa_resp']==0)&(test['sofa_cns']==0)&(test['sofa_cardio']==0))&(test['time']==0)]\n",
        "x_test = low_sofa_subgroup[col_x]\n",
        "y_test = low_sofa_subgroup[col_y]\n",
        "x_test.set_index(['admissionid','time'], append=True, inplace=True)\n",
        "y_test.set_index(['admissionid','time'], append=True, inplace=True)\n",
        "\n",
        "teeId = x_test.index.levels[1]\n",
        "\n",
        "X_test = [x_test.loc[(slice(None), patient), :].values for patient in teeId]\n",
        "y_test = [y_test.loc[(slice(None), patient), :].values for patient in teeId]\n",
        "\n",
        "X_test = sequence.pad_sequences(X_test, dtype='float32', maxlen=maxlen, padding='post', truncating='post')\n",
        "y_test = sequence.pad_sequences(y_test, dtype='float32', maxlen=maxlen, padding='post', truncating='post')\n",
        "print(\"X_test shape: %s | y_test shape: %s\" % (str(X_test.shape), str(y_test.shape)))\n",
        "# Generate model results on the holdout validation set\n",
        "preds = model.predict(X_test)\n",
        "# get 0/1 binary label for each patient encounter\n",
        "label = y_test[:, 0, :].squeeze()\n",
        "\n",
        "# get the last prediction in [0,1] for the patient\n",
        "prediction = preds[:, -1, :].squeeze()\n",
        "\n",
        "# compute ROC curve for predictions\n",
        "rnn_roc = roc_curve(label,prediction)\n",
        "\n",
        "# compute the area under the curve of prediction ROC\n",
        "rnn_auc = auc(rnn_roc[0], rnn_roc[1])\n",
        "\n",
        "print(f\"AUC: {rnn_auc}\")\n",
        "thresholds = rnn_roc[2]\n",
        "# Finding best threshold using Youden's J statistic\n",
        "optimal_idx = np.argmax(rnn_roc[1]-rnn_roc[0])\n",
        "optimal_threshold = thresholds[optimal_idx]\n",
        "\n",
        "accuracy = accuracy_score(label, prediction>=optimal_threshold)\n",
        "f1 = f1_score(label, prediction>=optimal_threshold)\n",
        "nll = log_loss(label, prediction>=optimal_threshold)\n",
        "precision = precision_score(label, prediction>=optimal_threshold)\n",
        "recall = recall_score(label, prediction>=optimal_threshold)\n",
        "\n",
        "print(f\"Accuracy: {accuracy:.4f}\")\n",
        "print(f\"F1 Score: {f1:.4f}\")\n",
        "print(f\"Negative Log-Likelihood: {nll:.4f}\")\n",
        "print(f\"Precision: {precision:.4f}\")\n",
        "print(f\"Recall: {recall:.4f}\")\n"
      ]
    }
  ],
  "metadata": {
    "colab": {
      "collapsed_sections": [
        "wkXGVM33tJaP",
        "qyaSqLcHDsnA",
        "DHLmeU0SJNFE"
      ],
      "provenance": [],
      "toc_visible": true
    },
    "kernelspec": {
      "display_name": "Python 3",
      "name": "python3"
    },
    "language_info": {
      "codemirror_mode": {
        "name": "ipython",
        "version": 3
      },
      "file_extension": ".py",
      "mimetype": "text/x-python",
      "name": "python",
      "nbconvert_exporter": "python",
      "pygments_lexer": "ipython3",
      "version": "3.9.12"
    }
  },
  "nbformat": 4,
  "nbformat_minor": 0
}
